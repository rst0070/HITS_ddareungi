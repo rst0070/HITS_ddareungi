{
 "cells": [
  {
   "cell_type": "code",
   "execution_count": 1,
   "metadata": {},
   "outputs": [
    {
     "name": "stderr",
     "output_type": "stream",
     "text": [
      "24/04/27 16:37:10 WARN Utils: Your hostname, rst-MS-7D99 resolves to a loopback address: 127.0.1.1; using 192.168.50.2 instead (on interface enp4s0)\n",
      "24/04/27 16:37:10 WARN Utils: Set SPARK_LOCAL_IP if you need to bind to another address\n",
      "Setting default log level to \"WARN\".\n",
      "To adjust logging level use sc.setLogLevel(newLevel). For SparkR, use setLogLevel(newLevel).\n",
      "24/04/27 16:37:11 WARN NativeCodeLoader: Unable to load native-hadoop library for your platform... using builtin-java classes where applicable\n"
     ]
    }
   ],
   "source": [
    "from pyspark.sql import SparkSession\n",
    "spark = SparkSession \\\n",
    "    .builder \\\n",
    "    .master('local') \\\n",
    "    .appName('demo') \\\n",
    "    .config(\"spark.driver.memory\", \"2g\") \\\n",
    "    .config('spark.executor.memory', '2g') \\\n",
    "    .getOrCreate()\n",
    "    \n",
    "sc = spark.sparkContext"
   ]
  },
  {
   "cell_type": "code",
   "execution_count": 2,
   "metadata": {},
   "outputs": [
    {
     "data": {
      "text/plain": [
       "[('spark.master', 'local'),\n",
       " ('spark.executor.memory', '2g'),\n",
       " ('spark.driver.extraJavaOptions',\n",
       "  '-Djava.net.preferIPv6Addresses=false -XX:+IgnoreUnrecognizedVMOptions --add-opens=java.base/java.lang=ALL-UNNAMED --add-opens=java.base/java.lang.invoke=ALL-UNNAMED --add-opens=java.base/java.lang.reflect=ALL-UNNAMED --add-opens=java.base/java.io=ALL-UNNAMED --add-opens=java.base/java.net=ALL-UNNAMED --add-opens=java.base/java.nio=ALL-UNNAMED --add-opens=java.base/java.util=ALL-UNNAMED --add-opens=java.base/java.util.concurrent=ALL-UNNAMED --add-opens=java.base/java.util.concurrent.atomic=ALL-UNNAMED --add-opens=java.base/jdk.internal.ref=ALL-UNNAMED --add-opens=java.base/sun.nio.ch=ALL-UNNAMED --add-opens=java.base/sun.nio.cs=ALL-UNNAMED --add-opens=java.base/sun.security.action=ALL-UNNAMED --add-opens=java.base/sun.util.calendar=ALL-UNNAMED --add-opens=java.security.jgss/sun.security.krb5=ALL-UNNAMED -Djdk.reflect.useDirectMethodHandle=false'),\n",
       " ('spark.driver.host', 'DESKTOP-2K42TPL'),\n",
       " ('spark.executor.id', 'driver'),\n",
       " ('spark.driver.port', '13507'),\n",
       " ('spark.app.submitTime', '1714196774806'),\n",
       " ('spark.app.startTime', '1714196775003'),\n",
       " ('spark.app.name', 'demo'),\n",
       " ('spark.rdd.compress', 'True'),\n",
       " ('spark.executor.extraJavaOptions',\n",
       "  '-Djava.net.preferIPv6Addresses=false -XX:+IgnoreUnrecognizedVMOptions --add-opens=java.base/java.lang=ALL-UNNAMED --add-opens=java.base/java.lang.invoke=ALL-UNNAMED --add-opens=java.base/java.lang.reflect=ALL-UNNAMED --add-opens=java.base/java.io=ALL-UNNAMED --add-opens=java.base/java.net=ALL-UNNAMED --add-opens=java.base/java.nio=ALL-UNNAMED --add-opens=java.base/java.util=ALL-UNNAMED --add-opens=java.base/java.util.concurrent=ALL-UNNAMED --add-opens=java.base/java.util.concurrent.atomic=ALL-UNNAMED --add-opens=java.base/jdk.internal.ref=ALL-UNNAMED --add-opens=java.base/sun.nio.ch=ALL-UNNAMED --add-opens=java.base/sun.nio.cs=ALL-UNNAMED --add-opens=java.base/sun.security.action=ALL-UNNAMED --add-opens=java.base/sun.util.calendar=ALL-UNNAMED --add-opens=java.security.jgss/sun.security.krb5=ALL-UNNAMED -Djdk.reflect.useDirectMethodHandle=false'),\n",
       " ('spark.driver.memory', '2g'),\n",
       " ('spark.app.id', 'local-1714196776390'),\n",
       " ('spark.serializer.objectStreamReset', '100'),\n",
       " ('spark.submit.pyFiles', ''),\n",
       " ('spark.submit.deployMode', 'client'),\n",
       " ('spark.ui.showConsoleProgress', 'true')]"
      ]
     },
     "execution_count": 2,
     "metadata": {},
     "output_type": "execute_result"
    }
   ],
   "source": [
    "sc.getConf().getAll()"
   ]
  },
  {
   "cell_type": "code",
   "execution_count": 2,
   "metadata": {},
   "outputs": [
    {
     "name": "stderr",
     "output_type": "stream",
     "text": [
      "                                                                                \r"
     ]
    },
    {
     "data": {
      "text/plain": [
       "['\"기준_날짜\",\"집계_기준\",\"기준_시간대\",\"시작_대여소_ID\",\"시작_대여소명\",\"종료_대여소_ID\",\"종료_대여소명\",\"전체_건수\",\"전체_이용_분\",\"전체_이용_거리\"',\n",
       " '\"20240421\",\"출발시간\",\"0000\",\"ST-1041\",\"성내1동_033_1\",\"ST-495\",\"성내3동_014_1\",\"1\",\"9\",\"1752\"',\n",
       " '\"20240421\",\"출발시간\",\"0000\",\"ST-1046\",\"성내2동_015_1\",\"ST-3209\",\"천호2동_048_1\",\"1\",\"8\",\"1000\"',\n",
       " '\"20240421\",\"출발시간\",\"0000\",\"ST-105\",\"성수2가3동_015_1\",\"ST-987\",\"자양3동_004_1\",\"1\",\"13\",\"1880\"',\n",
       " '\"20240421\",\"출발시간\",\"0000\",\"ST-1061\",\"천호1동_039_1\",\"ST-1626\",\"천호3동_040_1\",\"1\",\"6\",\"1344\"']"
      ]
     },
     "execution_count": 2,
     "metadata": {},
     "output_type": "execute_result"
    }
   ],
   "source": [
    "data_rdd = sc.textFile('./test.csv')\n",
    "data_rdd.take(5)"
   ]
  },
  {
   "cell_type": "code",
   "execution_count": 3,
   "metadata": {},
   "outputs": [
    {
     "data": {
      "text/plain": [
       "[('ST-495', [('ST-1041', 2), ('ST-1839', 3), ('ST-1061', 4)]),\n",
       " ('ST-3209', [('ST-1046', 2), ('ST-505', 2)]),\n",
       " ('ST-987', [('ST-105', 2)]),\n",
       " ('ST-1626', [('ST-1061', 2), ('ST-502', 2), ('ST-1834', 2)]),\n",
       " ('ST-2551', [('ST-1069', 2)]),\n",
       " ('ST-1684', [('ST-1083', 4), ('ST-496', 2), ('ST-1046', 1)]),\n",
       " ('ST-2740', [('ST-1083', 2), ('ST-2574', 1)]),\n",
       " ('ST-1671', [('ST-1098', 2), ('ST-2630', 2)]),\n",
       " ('ST-625', [('ST-1147', 2)]),\n",
       " ('ST-2847', [('ST-1184', 2)]),\n",
       " ('ST-1347', [('ST-1215', 2)]),\n",
       " ('ST-1065', [('ST-1251', 2), ('ST-1718', 2), ('ST-2832', 1)]),\n",
       " ('ST-1514', [('ST-1252', 2), ('ST-835', 2)]),\n",
       " ('ST-705', [('ST-1259', 2), ('ST-2873', 1), ('ST-664', 1)]),\n",
       " ('ST-2284', [('ST-1263', 2)]),\n",
       " ('ST-1467', [('ST-1297', 2), ('ST-1111', 1)]),\n",
       " ('ST-1300', [('ST-1300', 2), ('ST-3099', 2)]),\n",
       " ('ST-144', [('ST-132', 2)]),\n",
       " ('ST-2558', [('ST-1320', 2)]),\n",
       " ('ST-2449', [('ST-1325', 2)]),\n",
       " ('ST-437', [('ST-1325', 2)]),\n",
       " ('ST-1446', [('ST-1326', 2), ('ST-207', 1)]),\n",
       " ('ST-1259', [('ST-1337', 2), ('ST-668', 1), ('ST-1543', 1)]),\n",
       " ('ST-2374', [('ST-1337', 2)]),\n",
       " ('ST-2878', [('ST-1367', 2)])]"
      ]
     },
     "execution_count": 3,
     "metadata": {},
     "output_type": "execute_result"
    }
   ],
   "source": [
    "from collections.abc import Iterable\n",
    "from collections import defaultdict\n",
    "from typing import List\n",
    "\n",
    "def fiilterHead(seq:str):\n",
    "    if seq.startswith('\"기준'):\n",
    "        return False\n",
    "    return True\n",
    "\n",
    "\n",
    "def extractRdd(iterator:Iterable[str]):\n",
    "    hash_map = defaultdict(int)\n",
    "    \n",
    "    for seq in iterator:\n",
    "        seq = seq.split(',')\n",
    "        start, end, num = seq[3][1:-1], seq[5][1:-1], int(seq[7][1:-1])\n",
    "        \n",
    "        hash_map[start+','+end] += num\n",
    "    \n",
    "    result = [(k, v) for k, v in hash_map.items()]\n",
    "    return result\n",
    "\n",
    "def extractMatrixA(iterator:Iterable[tuple[str, int]]):\n",
    "    \n",
    "    hash_map = defaultdict(List)\n",
    "    \n",
    "    for tup in iterator:\n",
    "        start, end = tup[0].split(',')\n",
    "        num = tup[1]\n",
    "        \n",
    "        if start not in hash_map:\n",
    "            hash_map[start] = []\n",
    "            \n",
    "        hash_map[start].append((end, num))\n",
    "    \n",
    "    result = [(end_node, num_sum) for end_node, num_sum in hash_map.items()]\n",
    "    return result\n",
    "\n",
    "def extractMatrixA_t(iterator:Iterable[tuple[str, int]]):\n",
    "    \n",
    "    hash_map = defaultdict(List)\n",
    "    \n",
    "    for tup in iterator:\n",
    "        start, end = tup[0].split(',')\n",
    "        num = tup[1]\n",
    "        \n",
    "        if end not in hash_map:\n",
    "            hash_map[end] = []\n",
    "            \n",
    "        hash_map[end].append((start, num))\n",
    "    \n",
    "    result = [(start_node, num_sum) for start_node, num_sum in hash_map.items()]\n",
    "    return result\n",
    "\n",
    "    \n",
    "\n",
    "rdd = data_rdd.filter(fiilterHead).mapPartitions(extractRdd)\n",
    "matA = rdd.mapPartitions(extractMatrixA)\n",
    "matA_t = rdd.mapPartitions(extractMatrixA_t)\n",
    "## RDD is like below\n",
    "## (start stop, [(end stop, number of bikes used that route), ....])\n",
    "matA_t.take(25)\n"
   ]
  }
 ],
 "metadata": {
  "kernelspec": {
   "display_name": "Python 3",
   "language": "python",
   "name": "python3"
  },
  "language_info": {
   "codemirror_mode": {
    "name": "ipython",
    "version": 3
   },
   "file_extension": ".py",
   "mimetype": "text/x-python",
   "name": "python",
   "nbconvert_exporter": "python",
   "pygments_lexer": "ipython3",
   "version": "3.11.8"
  }
 },
 "nbformat": 4,
 "nbformat_minor": 2
}
