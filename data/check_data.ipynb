{
 "cells": [
  {
   "cell_type": "code",
   "execution_count": 1,
   "metadata": {},
   "outputs": [],
   "source": [
    "from pyspark.sql import SparkSession\n",
    "spark = SparkSession \\\n",
    "    .builder \\\n",
    "    .master('local') \\\n",
    "    .appName('demo') \\\n",
    "    .config(\"spark.driver.memory\", \"2g\") \\\n",
    "    .config('spark.executor.memory', '2g') \\\n",
    "    .getOrCreate()\n",
    "    \n",
    "sc = spark.sparkContext"
   ]
  },
  {
   "cell_type": "code",
   "execution_count": 2,
   "metadata": {},
   "outputs": [
    {
     "data": {
      "text/plain": [
       "[('spark.master', 'local'),\n",
       " ('spark.executor.memory', '2g'),\n",
       " ('spark.driver.extraJavaOptions',\n",
       "  '-Djava.net.preferIPv6Addresses=false -XX:+IgnoreUnrecognizedVMOptions --add-opens=java.base/java.lang=ALL-UNNAMED --add-opens=java.base/java.lang.invoke=ALL-UNNAMED --add-opens=java.base/java.lang.reflect=ALL-UNNAMED --add-opens=java.base/java.io=ALL-UNNAMED --add-opens=java.base/java.net=ALL-UNNAMED --add-opens=java.base/java.nio=ALL-UNNAMED --add-opens=java.base/java.util=ALL-UNNAMED --add-opens=java.base/java.util.concurrent=ALL-UNNAMED --add-opens=java.base/java.util.concurrent.atomic=ALL-UNNAMED --add-opens=java.base/jdk.internal.ref=ALL-UNNAMED --add-opens=java.base/sun.nio.ch=ALL-UNNAMED --add-opens=java.base/sun.nio.cs=ALL-UNNAMED --add-opens=java.base/sun.security.action=ALL-UNNAMED --add-opens=java.base/sun.util.calendar=ALL-UNNAMED --add-opens=java.security.jgss/sun.security.krb5=ALL-UNNAMED -Djdk.reflect.useDirectMethodHandle=false'),\n",
       " ('spark.driver.host', 'DESKTOP-2K42TPL'),\n",
       " ('spark.executor.id', 'driver'),\n",
       " ('spark.driver.port', '13507'),\n",
       " ('spark.app.submitTime', '1714196774806'),\n",
       " ('spark.app.startTime', '1714196775003'),\n",
       " ('spark.app.name', 'demo'),\n",
       " ('spark.rdd.compress', 'True'),\n",
       " ('spark.executor.extraJavaOptions',\n",
       "  '-Djava.net.preferIPv6Addresses=false -XX:+IgnoreUnrecognizedVMOptions --add-opens=java.base/java.lang=ALL-UNNAMED --add-opens=java.base/java.lang.invoke=ALL-UNNAMED --add-opens=java.base/java.lang.reflect=ALL-UNNAMED --add-opens=java.base/java.io=ALL-UNNAMED --add-opens=java.base/java.net=ALL-UNNAMED --add-opens=java.base/java.nio=ALL-UNNAMED --add-opens=java.base/java.util=ALL-UNNAMED --add-opens=java.base/java.util.concurrent=ALL-UNNAMED --add-opens=java.base/java.util.concurrent.atomic=ALL-UNNAMED --add-opens=java.base/jdk.internal.ref=ALL-UNNAMED --add-opens=java.base/sun.nio.ch=ALL-UNNAMED --add-opens=java.base/sun.nio.cs=ALL-UNNAMED --add-opens=java.base/sun.security.action=ALL-UNNAMED --add-opens=java.base/sun.util.calendar=ALL-UNNAMED --add-opens=java.security.jgss/sun.security.krb5=ALL-UNNAMED -Djdk.reflect.useDirectMethodHandle=false'),\n",
       " ('spark.driver.memory', '2g'),\n",
       " ('spark.app.id', 'local-1714196776390'),\n",
       " ('spark.serializer.objectStreamReset', '100'),\n",
       " ('spark.submit.pyFiles', ''),\n",
       " ('spark.submit.deployMode', 'client'),\n",
       " ('spark.ui.showConsoleProgress', 'true')]"
      ]
     },
     "execution_count": 2,
     "metadata": {},
     "output_type": "execute_result"
    }
   ],
   "source": [
    "sc.getConf().getAll()"
   ]
  },
  {
   "cell_type": "code",
   "execution_count": 13,
   "metadata": {},
   "outputs": [
    {
     "data": {
      "text/plain": [
       "['\"기준_날짜\",\"집계_기준\",\"기준_시간대\",\"시작_대여소_ID\",\"시작_대여소명\",\"종료_대여소_ID\",\"종료_대여소명\",\"전체_건수\",\"전체_이용_분\",\"전체_이용_거리\"',\n",
       " '\"20240421\",\"출발시간\",\"0000\",\"ST-1041\",\"성내1동_033_1\",\"ST-495\",\"성내3동_014_1\",\"1\",\"9\",\"1752\"',\n",
       " '\"20240421\",\"출발시간\",\"0000\",\"ST-1046\",\"성내2동_015_1\",\"ST-3209\",\"천호2동_048_1\",\"1\",\"8\",\"1000\"',\n",
       " '\"20240421\",\"출발시간\",\"0000\",\"ST-105\",\"성수2가3동_015_1\",\"ST-987\",\"자양3동_004_1\",\"1\",\"13\",\"1880\"',\n",
       " '\"20240421\",\"출발시간\",\"0000\",\"ST-1061\",\"천호1동_039_1\",\"ST-1626\",\"천호3동_040_1\",\"1\",\"6\",\"1344\"']"
      ]
     },
     "execution_count": 13,
     "metadata": {},
     "output_type": "execute_result"
    }
   ],
   "source": [
    "data_rdd = sc.textFile('./test.csv')\n",
    "data_rdd.take(5)"
   ]
  },
  {
   "cell_type": "code",
   "execution_count": 21,
   "metadata": {},
   "outputs": [
    {
     "data": {
      "text/plain": [
       "[('ST-1041', [('ST-495', 2), ('ST-1092', 2)]),\n",
       " ('ST-1046',\n",
       "  [('ST-3209', 2),\n",
       "   ('ST-1874', 2),\n",
       "   ('ST-541', 2),\n",
       "   ('ST-1046', 1),\n",
       "   ('ST-1684', 1),\n",
       "   ('ST-1041', 2)]),\n",
       " ('ST-105',\n",
       "  [('ST-987', 2),\n",
       "   ('ST-361', 4),\n",
       "   ('ST-259', 1),\n",
       "   ('ST-1616', 1),\n",
       "   ('ST-2320', 1)]),\n",
       " ('ST-1061',\n",
       "  [('ST-1626', 2),\n",
       "   ('ST-1044', 2),\n",
       "   ('ST-1061', 4),\n",
       "   ('ST-1420', 4),\n",
       "   ('ST-495', 4),\n",
       "   ('ST-2749', 4),\n",
       "   ('ST-1842', 2),\n",
       "   ('ST-493', 1),\n",
       "   ('ST-1621', 1),\n",
       "   ('ST-1837', 2),\n",
       "   ('ST-1834', 1)]),\n",
       " ('ST-1069', [('ST-2551', 2)]),\n",
       " ('ST-1083', [('ST-1684', 4), ('ST-2740', 2), ('ST-1049', 2)]),\n",
       " ('ST-1098', [('ST-1671', 2), ('ST-1280', 1), ('ST-2846', 1)]),\n",
       " ('ST-1147', [('ST-625', 2)]),\n",
       " ('ST-1184', [('ST-2847', 2)]),\n",
       " ('ST-1215', [('ST-1347', 2)]),\n",
       " ('ST-1251',\n",
       "  [('ST-1065', 2),\n",
       "   ('ST-516', 4),\n",
       "   ('ST-3084', 2),\n",
       "   ('ST-525', 1),\n",
       "   ('ST-2478', 1),\n",
       "   ('ST-2482', 2),\n",
       "   ('ST-1645', 1)]),\n",
       " ('ST-1252', [('ST-1514', 2), ('ST-2052', 2), ('ST-1062', 1)]),\n",
       " ('ST-1259', [('ST-705', 2), ('ST-725', 2)]),\n",
       " ('ST-1263',\n",
       "  [('ST-2284', 2),\n",
       "   ('ST-2331', 2),\n",
       "   ('ST-2909', 1),\n",
       "   ('ST-1061', 2),\n",
       "   ('ST-1722', 2),\n",
       "   ('ST-1111', 1),\n",
       "   ('ST-2325', 2),\n",
       "   ('ST-486', 2),\n",
       "   ('ST-1095', 2),\n",
       "   ('ST-1379', 1)]),\n",
       " ('ST-1297', [('ST-1467', 2), ('ST-2896', 1)]),\n",
       " ('ST-1300', [('ST-1300', 2), ('ST-2268', 2), ('ST-2278', 1)]),\n",
       " ('ST-132', [('ST-144', 2)]),\n",
       " ('ST-1320', [('ST-2558', 2)]),\n",
       " ('ST-1325', [('ST-2449', 2), ('ST-437', 2), ('ST-1254', 1)]),\n",
       " ('ST-1326', [('ST-1446', 2), ('ST-1443', 2), ('ST-728', 1)]),\n",
       " ('ST-1337', [('ST-1259', 2), ('ST-2374', 2), ('ST-702', 2)]),\n",
       " ('ST-1367', [('ST-2878', 2)]),\n",
       " ('ST-1371', [('ST-1059', 4)]),\n",
       " ('ST-1380', [('ST-2634', 2), ('ST-3006', 2), ('ST-1380', 1)]),\n",
       " ('ST-1406', [('ST-1880', 2)])]"
      ]
     },
     "execution_count": 21,
     "metadata": {},
     "output_type": "execute_result"
    }
   ],
   "source": [
    "from collections.abc import Iterable\n",
    "from collections import defaultdict\n",
    "from typing import List\n",
    "\n",
    "def fiilterHead(seq:str):\n",
    "    if seq.startswith('\"기준'):\n",
    "        return False\n",
    "    return True\n",
    "\n",
    "\n",
    "def extractRdd(iterator:Iterable[str]):\n",
    "    hash_map = defaultdict(int)\n",
    "    \n",
    "    for seq in iterator:\n",
    "        seq = seq.split(',')\n",
    "        start, end, num = seq[3][1:-1], seq[5][1:-1], int(seq[7][1:-1])\n",
    "        \n",
    "        hash_map[start+','+end] += num\n",
    "    \n",
    "    result = [(k, v) for k, v in hash_map.items()]\n",
    "    return result\n",
    "\n",
    "def extractMatrixA(iterator:Iterable[tuple[str, int]]):\n",
    "    \n",
    "    hash_map = defaultdict(List)\n",
    "    \n",
    "    for tup in iterator:\n",
    "        start, end = tup[0].split(',')\n",
    "        num = tup[1]\n",
    "        \n",
    "        if start not in hash_map:\n",
    "            hash_map[start] = []\n",
    "            \n",
    "        hash_map[start].append((end, num))\n",
    "    \n",
    "    result = [(k, v) for k, v in hash_map.items()]\n",
    "    return result\n",
    "\n",
    "    \n",
    "\n",
    "rdd = data_rdd.filter(fiilterHead).mapPartitions(extractRdd).mapPartitions(extractMatrixA)\n",
    "## RDD is like below\n",
    "## (start stop, [(end stop, number of bikes used that route), ....])\n",
    "rdd.take(25)\n"
   ]
  }
 ],
 "metadata": {
  "kernelspec": {
   "display_name": "Python 3",
   "language": "python",
   "name": "python3"
  },
  "language_info": {
   "codemirror_mode": {
    "name": "ipython",
    "version": 3
   },
   "file_extension": ".py",
   "mimetype": "text/x-python",
   "name": "python",
   "nbconvert_exporter": "python",
   "pygments_lexer": "ipython3",
   "version": "3.11.9"
  }
 },
 "nbformat": 4,
 "nbformat_minor": 2
}
