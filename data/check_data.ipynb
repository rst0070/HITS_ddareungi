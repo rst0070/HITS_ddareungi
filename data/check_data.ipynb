{
 "cells": [
  {
   "cell_type": "code",
   "execution_count": 1,
   "metadata": {},
   "outputs": [
    {
     "name": "stderr",
     "output_type": "stream",
     "text": [
      "24/04/26 23:27:59 WARN Utils: Your hostname, rst-MS-7D99 resolves to a loopback address: 127.0.1.1; using 192.168.50.2 instead (on interface enp4s0)\n",
      "24/04/26 23:27:59 WARN Utils: Set SPARK_LOCAL_IP if you need to bind to another address\n",
      "Setting default log level to \"WARN\".\n",
      "To adjust logging level use sc.setLogLevel(newLevel). For SparkR, use setLogLevel(newLevel).\n",
      "24/04/26 23:28:00 WARN NativeCodeLoader: Unable to load native-hadoop library for your platform... using builtin-java classes where applicable\n",
      "                                                                                \r"
     ]
    },
    {
     "data": {
      "text/plain": [
       "['\"기준_날짜\",\"집계_기준\",\"기준_시간대\",\"시작_대여소_ID\",\"시작_대여소명\",\"종료_대여소_ID\",\"종료_대여소명\",\"전체_건수\",\"전체_이용_분\",\"전체_이용_거리\"',\n",
       " '\"20240421\",\"출발시간\",\"0000\",\"ST-1041\",\"성내1동_033_1\",\"ST-495\",\"성내3동_014_1\",\"1\",\"9\",\"1752\"']"
      ]
     },
     "execution_count": 1,
     "metadata": {},
     "output_type": "execute_result"
    }
   ],
   "source": [
    "from pyspark.sql import SparkSession\n",
    "spark_session = SparkSession \\\n",
    "    .builder \\\n",
    "    .master('local') \\\n",
    "    .appName('demo') \\\n",
    "    .config(\"spark.driver.memory\", \"16g\") \\\n",
    "    .getOrCreate()\n",
    "\n",
    "sc = spark_session.sparkContext\n",
    "data_file = sc.textFile(\"./20240421.csv\")\n",
    "data_file.take(2)"
   ]
  },
  {
   "cell_type": "code",
   "execution_count": 2,
   "metadata": {},
   "outputs": [
    {
     "data": {
      "text/plain": [
       "['\"기준_날짜\",\"집계_기준\",\"기준_시간대\",\"시작_대여소_ID\",\"시작_대여소명\",\"종료_대여소_ID\",\"종료_대여소명\",\"전체_건수\",\"전체_이용_분\",\"전체_이용_거리\"',\n",
       " '\"20240421\",\"출발시간\",\"0000\",\"ST-1041\",\"성내1동_033_1\",\"ST-495\",\"성내3동_014_1\",\"1\",\"9\",\"1752\"']"
      ]
     },
     "execution_count": 2,
     "metadata": {},
     "output_type": "execute_result"
    }
   ],
   "source": [
    "data_file.take(2)"
   ]
  }
 ],
 "metadata": {
  "kernelspec": {
   "display_name": "Python 3",
   "language": "python",
   "name": "python3"
  },
  "language_info": {
   "codemirror_mode": {
    "name": "ipython",
    "version": 3
   },
   "file_extension": ".py",
   "mimetype": "text/x-python",
   "name": "python",
   "nbconvert_exporter": "python",
   "pygments_lexer": "ipython3",
   "version": "3.11.8"
  }
 },
 "nbformat": 4,
 "nbformat_minor": 2
}
